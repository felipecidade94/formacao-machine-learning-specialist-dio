{
 "cells": [
  {
   "cell_type": "markdown",
   "id": "52627ce5",
   "metadata": {},
   "source": [
    "Importar a lib"
   ]
  },
  {
   "cell_type": "code",
   "execution_count": 6,
   "id": "c42b4993",
   "metadata": {},
   "outputs": [],
   "source": [
    "import cv2"
   ]
  },
  {
   "cell_type": "markdown",
   "id": "830ce6c2",
   "metadata": {},
   "source": [
    "Carregar imagem"
   ]
  },
  {
   "cell_type": "code",
   "execution_count": 10,
   "id": "a54dd04b",
   "metadata": {},
   "outputs": [],
   "source": [
    "img = cv2.imread('wilson.jpg')"
   ]
  },
  {
   "cell_type": "markdown",
   "id": "2018cca8",
   "metadata": {},
   "source": [
    "Corverter para escala de cinza"
   ]
  },
  {
   "cell_type": "code",
   "execution_count": 11,
   "id": "b2672ff2",
   "metadata": {},
   "outputs": [
    {
     "data": {
      "text/plain": [
       "True"
      ]
     },
     "execution_count": 11,
     "metadata": {},
     "output_type": "execute_result"
    }
   ],
   "source": [
    "gray = cv2.cvtColor(img, cv2.COLOR_BGR2GRAY)\n",
    "cv2.imwrite(\"imagem_cinza.jpg\", gray)"
   ]
  },
  {
   "cell_type": "markdown",
   "id": "7059b19d",
   "metadata": {},
   "source": [
    "Converter para preto e branco"
   ]
  },
  {
   "cell_type": "code",
   "execution_count": null,
   "id": "6b7901fe",
   "metadata": {},
   "outputs": [
    {
     "data": {
      "text/plain": [
       "True"
      ]
     },
     "execution_count": 12,
     "metadata": {},
     "output_type": "execute_result"
    }
   ],
   "source": [
    "_,bw = cv2.threshold(gray, 128, 255, cv2.THRESH_BINARY)\n",
    "cv2.imwrite('wilson_preto_e_branco.jpg', bw)"
   ]
  },
  {
   "cell_type": "code",
   "execution_count": null,
   "id": "daf3f69a",
   "metadata": {},
   "outputs": [],
   "source": [
    "cv2.imshow('Cinza', gray)\n",
    "cv2.imshow('Preto e branco', bw)\n",
    "cv2.waitKey(0)\n",
    "cv2.destroyWindow()"
   ]
  }
 ],
 "metadata": {
  "kernelspec": {
   "display_name": "venv",
   "language": "python",
   "name": "python3"
  },
  "language_info": {
   "codemirror_mode": {
    "name": "ipython",
    "version": 3
   },
   "file_extension": ".py",
   "mimetype": "text/x-python",
   "name": "python",
   "nbconvert_exporter": "python",
   "pygments_lexer": "ipython3",
   "version": "3.12.10"
  }
 },
 "nbformat": 4,
 "nbformat_minor": 5
}
